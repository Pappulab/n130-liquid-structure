{
 "cells": [
  {
   "cell_type": "markdown",
   "metadata": {},
   "source": [
    "# Phase diagrams for N130+rpL5 and N130(+A2)+rpL5"
   ]
  },
  {
   "cell_type": "code",
   "execution_count": 12,
   "metadata": {
    "ExecuteTime": {
     "end_time": "2023-09-20T20:10:34.398069Z",
     "start_time": "2023-09-20T20:10:34.393066Z"
    }
   },
   "outputs": [],
   "source": [
    "import numpy as np\n",
    "import scipy as sp\n",
    "import matplotlib.pyplot as plt\n",
    "import seaborn as sns\n",
    "import pandas as pd\n",
    "sns.set_style(\"white\")\n",
    "sns.set_style(\"ticks\")\n",
    "sns.set_context(\"paper\", font_scale=1.25)\n",
    "\n",
    "plt.rcParams['pdf.fonttype']    = 42\n",
    "plt.rcParams['ps.fonttype']     = 42\n",
    "\n",
    "plt.rcParams['xtick.color']='black'\n",
    "plt.rcParams['ytick.color']='black'\n",
    "plt.rcParams['text.color']='black'\n",
    "plt.rcParams['axes.labelcolor']='black'\n",
    "plt.rcParams['axes.edgecolor']='black'\n",
    "plt.rcParams['legend.edgecolor']='black'\n",
    "plt.rcParams['xtick.direction']='out'\n",
    "plt.rcParams['ytick.direction']='out'\n",
    "plt.rcParams[\"axes.axisbelow\"] = True"
   ]
  },
  {
   "cell_type": "code",
   "execution_count": 13,
   "metadata": {},
   "outputs": [],
   "source": [
    "from os import listdir\n",
    "from os.path import isfile, join\n",
    "import matplotlib.pyplot as plt\n",
    "import numpy as np\n",
    "import math\n",
    "import array\n",
    "import scipy as sp\n",
    "import numpy as np\n",
    "import seaborn as sns\n",
    "import pandas as pd\n",
    "sns.set_style(\"white\")\n",
    "sns.set_style(\"ticks\")\n",
    "sns.set_context(\"paper\", font_scale=1.25)\n",
    "import pathlib\n",
    "from matplotlib import font_manager\n",
    "from scipy.interpolate import interp1d\n",
    "from os import listdir\n",
    "from os.path import isfile, join\n",
    "\n",
    "import matplotlib as mpl\n",
    "mpl.rcParams['pdf.fonttype'] = 42\n",
    "mpl.rcParams['ps.fonttype'] = 42"
   ]
  },
  {
   "cell_type": "code",
   "execution_count": 14,
   "metadata": {},
   "outputs": [
    {
     "name": "stdout",
     "output_type": "stream",
     "text": [
      "/project/fava/work/samuel.cohen/fonts/ARIAL.TTF\n"
     ]
    }
   ],
   "source": [
    "# Setup the fonts\n",
    "fonts_path = pathlib.Path('/project/fava/work/samuel.cohen/fonts')\n",
    "font_filename = 'ARIAL.TTF'\n",
    "font_path = fonts_path.joinpath(font_filename)\n",
    "print(font_path)\n",
    "\n",
    "font_manager.fontManager.addfont(str(font_path))\n",
    "prop = font_manager.FontProperties(fname=font_path)\n",
    "\n",
    "plt.rcParams['font.family'] = 'sans-serif'\n",
    "plt.rcParams['font.sans-serif'] = prop.get_name()"
   ]
  },
  {
   "cell_type": "markdown",
   "metadata": {},
   "source": [
    "# WT"
   ]
  },
  {
   "cell_type": "markdown",
   "metadata": {},
   "source": [
    "## Reading Data"
   ]
  },
  {
   "cell_type": "code",
   "execution_count": 15,
   "metadata": {
    "ExecuteTime": {
     "end_time": "2023-09-20T20:06:51.485384Z",
     "start_time": "2023-09-20T20:06:51.458439Z"
    }
   },
   "outputs": [
    {
     "data": {
      "text/html": [
       "<div>\n",
       "<style scoped>\n",
       "    .dataframe tbody tr th:only-of-type {\n",
       "        vertical-align: middle;\n",
       "    }\n",
       "\n",
       "    .dataframe tbody tr th {\n",
       "        vertical-align: top;\n",
       "    }\n",
       "\n",
       "    .dataframe thead th {\n",
       "        text-align: right;\n",
       "    }\n",
       "</style>\n",
       "<table border=\"1\" class=\"dataframe\">\n",
       "  <thead>\n",
       "    <tr style=\"text-align: right;\">\n",
       "      <th></th>\n",
       "      <th>0</th>\n",
       "      <th>50</th>\n",
       "      <th>100</th>\n",
       "      <th>150</th>\n",
       "      <th>200</th>\n",
       "      <th>250</th>\n",
       "      <th>300</th>\n",
       "      <th>350</th>\n",
       "      <th>400</th>\n",
       "      <th>450</th>\n",
       "      <th>500</th>\n",
       "      <th>600</th>\n",
       "    </tr>\n",
       "  </thead>\n",
       "  <tbody>\n",
       "    <tr>\n",
       "      <th>0</th>\n",
       "      <td>4.469510</td>\n",
       "      <td>1.948673</td>\n",
       "      <td>1.651443</td>\n",
       "      <td>2.972932</td>\n",
       "      <td>3.943719</td>\n",
       "      <td>4.021011</td>\n",
       "      <td>9.863415</td>\n",
       "      <td>19.168258</td>\n",
       "      <td>35.228297</td>\n",
       "      <td>24.941104</td>\n",
       "      <td>10.582461</td>\n",
       "      <td>6.092278</td>\n",
       "    </tr>\n",
       "    <tr>\n",
       "      <th>25</th>\n",
       "      <td>3.665980</td>\n",
       "      <td>3.701167</td>\n",
       "      <td>2.967615</td>\n",
       "      <td>2.855729</td>\n",
       "      <td>2.716552</td>\n",
       "      <td>2.858714</td>\n",
       "      <td>4.359024</td>\n",
       "      <td>17.597180</td>\n",
       "      <td>118.613329</td>\n",
       "      <td>59.457041</td>\n",
       "      <td>34.669227</td>\n",
       "      <td>83.142372</td>\n",
       "    </tr>\n",
       "    <tr>\n",
       "      <th>50</th>\n",
       "      <td>3.757452</td>\n",
       "      <td>3.805376</td>\n",
       "      <td>3.075502</td>\n",
       "      <td>3.106302</td>\n",
       "      <td>2.965851</td>\n",
       "      <td>3.283855</td>\n",
       "      <td>8.401092</td>\n",
       "      <td>45.550140</td>\n",
       "      <td>382.701931</td>\n",
       "      <td>256.253035</td>\n",
       "      <td>71.908308</td>\n",
       "      <td>37.530613</td>\n",
       "    </tr>\n",
       "    <tr>\n",
       "      <th>75</th>\n",
       "      <td>3.054619</td>\n",
       "      <td>2.908075</td>\n",
       "      <td>2.835181</td>\n",
       "      <td>2.792125</td>\n",
       "      <td>2.641309</td>\n",
       "      <td>2.806073</td>\n",
       "      <td>3.353626</td>\n",
       "      <td>21.992816</td>\n",
       "      <td>4.190286</td>\n",
       "      <td>233.051155</td>\n",
       "      <td>98.697299</td>\n",
       "      <td>43.403913</td>\n",
       "    </tr>\n",
       "    <tr>\n",
       "      <th>100</th>\n",
       "      <td>2.935665</td>\n",
       "      <td>2.833006</td>\n",
       "      <td>2.900195</td>\n",
       "      <td>2.718852</td>\n",
       "      <td>2.772506</td>\n",
       "      <td>2.512058</td>\n",
       "      <td>3.009093</td>\n",
       "      <td>8.768213</td>\n",
       "      <td>152.938280</td>\n",
       "      <td>22.504363</td>\n",
       "      <td>114.987795</td>\n",
       "      <td>43.617164</td>\n",
       "    </tr>\n",
       "    <tr>\n",
       "      <th>125</th>\n",
       "      <td>2.814050</td>\n",
       "      <td>2.670454</td>\n",
       "      <td>2.967309</td>\n",
       "      <td>2.797206</td>\n",
       "      <td>2.656837</td>\n",
       "      <td>2.408661</td>\n",
       "      <td>2.864207</td>\n",
       "      <td>3.089776</td>\n",
       "      <td>12.767225</td>\n",
       "      <td>43.506245</td>\n",
       "      <td>36.033064</td>\n",
       "      <td>13.652216</td>\n",
       "    </tr>\n",
       "    <tr>\n",
       "      <th>150</th>\n",
       "      <td>5.383473</td>\n",
       "      <td>2.738894</td>\n",
       "      <td>2.854872</td>\n",
       "      <td>2.743740</td>\n",
       "      <td>2.709590</td>\n",
       "      <td>4.150143</td>\n",
       "      <td>2.832704</td>\n",
       "      <td>2.998610</td>\n",
       "      <td>3.587014</td>\n",
       "      <td>3.126240</td>\n",
       "      <td>12.700414</td>\n",
       "      <td>35.006132</td>\n",
       "    </tr>\n",
       "    <tr>\n",
       "      <th>200</th>\n",
       "      <td>6.761533</td>\n",
       "      <td>2.708875</td>\n",
       "      <td>2.926804</td>\n",
       "      <td>2.871970</td>\n",
       "      <td>2.578237</td>\n",
       "      <td>2.932289</td>\n",
       "      <td>2.844969</td>\n",
       "      <td>3.193441</td>\n",
       "      <td>3.173607</td>\n",
       "      <td>2.824433</td>\n",
       "      <td>2.777787</td>\n",
       "      <td>11.968562</td>\n",
       "    </tr>\n",
       "  </tbody>\n",
       "</table>\n",
       "</div>"
      ],
      "text/plain": [
       "          0         50        100       150       200       250       300  \\\n",
       "0    4.469510  1.948673  1.651443  2.972932  3.943719  4.021011  9.863415   \n",
       "25   3.665980  3.701167  2.967615  2.855729  2.716552  2.858714  4.359024   \n",
       "50   3.757452  3.805376  3.075502  3.106302  2.965851  3.283855  8.401092   \n",
       "75   3.054619  2.908075  2.835181  2.792125  2.641309  2.806073  3.353626   \n",
       "100  2.935665  2.833006  2.900195  2.718852  2.772506  2.512058  3.009093   \n",
       "125  2.814050  2.670454  2.967309  2.797206  2.656837  2.408661  2.864207   \n",
       "150  5.383473  2.738894  2.854872  2.743740  2.709590  4.150143  2.832704   \n",
       "200  6.761533  2.708875  2.926804  2.871970  2.578237  2.932289  2.844969   \n",
       "\n",
       "           350         400         450         500        600  \n",
       "0    19.168258   35.228297   24.941104   10.582461   6.092278  \n",
       "25   17.597180  118.613329   59.457041   34.669227  83.142372  \n",
       "50   45.550140  382.701931  256.253035   71.908308  37.530613  \n",
       "75   21.992816    4.190286  233.051155   98.697299  43.403913  \n",
       "100   8.768213  152.938280   22.504363  114.987795  43.617164  \n",
       "125   3.089776   12.767225   43.506245   36.033064  13.652216  \n",
       "150   2.998610    3.587014    3.126240   12.700414  35.006132  \n",
       "200   3.193441    3.173607    2.824433    2.777787  11.968562  "
      ]
     },
     "execution_count": 15,
     "metadata": {},
     "output_type": "execute_result"
    }
   ],
   "source": [
    "df = pd.read_excel('PhaseDiagramData.xlsx', sheet_name='WT', index_col=0)\n",
    "df"
   ]
  },
  {
   "cell_type": "markdown",
   "metadata": {},
   "source": [
    "## Plotting"
   ]
  },
  {
   "cell_type": "code",
   "execution_count": 16,
   "metadata": {
    "ExecuteTime": {
     "end_time": "2023-09-20T20:53:11.614934Z",
     "start_time": "2023-09-20T20:53:09.962280Z"
    }
   },
   "outputs": [
    {
     "name": "stderr",
     "output_type": "stream",
     "text": [
      "meta NOT subset; don't know how to subset; dropped\n"
     ]
    },
    {
     "data": {
      "image/png": "[encoded data removed]",
      "text/plain": [
       "<Figure size 360x360 with 1 Axes>"
      ]
     },
     "metadata": {},
     "output_type": "display_data"
    }
   ],
   "source": [
    "df = pd.read_excel('PhaseDiagramData.xlsx', sheet_name='WT', index_col=0)\n",
    "N130_concs = np.array(df.index)\n",
    "rpL5_concs = np.array(df.columns)\n",
    "df_arr = df.to_numpy()\n",
    "\n",
    "# Calculate the threshold as 3% of the maximum value in df_arr\n",
    "threshold = 0.03 * np.max(df_arr)\n",
    "\n",
    "\n",
    "plt.figure(figsize=[5,5])\n",
    "plt.title(\"WT\")\n",
    "\n",
    "x,y=np.argwhere(df_arr >= threshold).T\n",
    "plt.plot(rpL5_concs[y], N130_concs[x], 'o', ms=10, c='blue', mec='k', label='Phase Separated', mew=2)\n",
    "\n",
    "x,y=np.argwhere(df_arr < threshold).T\n",
    "plt.plot(rpL5_concs[y], N130_concs[x], 'o', ms=10, c='white', mec='red', label='No Phase Separation', mew=2)\n",
    "\n",
    "plt.xlim(75, 520)\n",
    "plt.ylim(15, 160)\n",
    "plt.xticks(np.arange(100, 550, step=100))\n",
    "plt.yticks([25, 50, 75, 100, 125, 150])\n",
    "\n",
    "plt.legend(bbox_to_anchor=(1.0, 0.5), loc='center left')\n",
    "\n",
    "plt.ylabel(\"[N130] $\\mu$M\")\n",
    "plt.xlabel(\"[rpL5] $\\mu$M\")\n",
    "plt.savefig(\"Fig1d_V2.pdf\", bbox_inches='tight', transparent=True)\n",
    "plt.savefig(\"Fig1d_V2.png\", bbox_inches='tight', transparent=True)\n",
    "plt.show()"
   ]
  },
  {
   "cell_type": "code",
   "execution_count": 17,
   "metadata": {},
   "outputs": [
    {
     "name": "stderr",
     "output_type": "stream",
     "text": [
      "meta NOT subset; don't know how to subset; dropped\n"
     ]
    },
    {
     "data": {
      "image/png": "[encoded data removed]",
      "text/plain": [
       "<Figure size 360x360 with 1 Axes>"
      ]
     },
     "metadata": {},
     "output_type": "display_data"
    }
   ],
   "source": [
    "df = pd.read_excel('PhaseDiagramData.xlsx', sheet_name='+A2', index_col=0)\n",
    "N130_concs = np.array(df.index)\n",
    "rpL5_concs = np.array(df.columns)\n",
    "df_arr = df.to_numpy()\n",
    "\n",
    "# Calculate the threshold as 3% of the maximum value in df_arr\n",
    "threshold = 0.03 * np.max(df_arr)\n",
    "\n",
    "\n",
    "plt.figure(figsize=[5,5])\n",
    "plt.title(\"+A2\")\n",
    "\n",
    "x,y=np.argwhere(df_arr >= threshold).T\n",
    "plt.plot(rpL5_concs[y], N130_concs[x], 'o', ms=10, c='blue', mec='k', label='Phase Separated', mew=2)\n",
    "\n",
    "x,y=np.argwhere(df_arr < threshold).T\n",
    "plt.plot(rpL5_concs[y], N130_concs[x], 'o', ms=10, c='white', mec='red', label='No Phase Separation', mew=2)\n",
    "\n",
    "plt.xlim(75, 520)\n",
    "plt.ylim(15, 160)\n",
    "plt.xticks(np.arange(100, 550, step=100))\n",
    "plt.yticks([25, 50, 75, 100, 125, 150])\n",
    "\n",
    "plt.legend(bbox_to_anchor=(1.0, 0.5), loc='center left')\n",
    "\n",
    "plt.ylabel(\"[N130$^{+A2}$] $\\mu$M\")\n",
    "plt.xlabel(\"[rpL5] $\\mu$M\")\n",
    "plt.savefig(\"Fig2d_V2.pdf\", bbox_inches='tight', transparent=True)\n",
    "plt.savefig(\"Fig2d_V2.png\", bbox_inches='tight', transparent=True)\n",
    "plt.show()"
   ]
  },
  {
   "cell_type": "code",
   "execution_count": null,
   "metadata": {},
   "outputs": [],
   "source": []
  }
 ],
 "metadata": {
  "kernelspec": {
   "display_name": "pappuPython",
   "language": "python",
   "name": "pappupython"
  },
  "language_info": {
   "codemirror_mode": {
    "name": "ipython",
    "version": 3
   },
   "file_extension": ".py",
   "mimetype": "text/x-python",
   "name": "python",
   "nbconvert_exporter": "python",
   "pygments_lexer": "ipython3",
   "version": "3.9.16"
  },
  "latex_envs": {
   "LaTeX_envs_menu_present": true,
   "autoclose": false,
   "autocomplete": true,
   "bibliofile": "biblio.bib",
   "cite_by": "apalike",
   "current_citInitial": 1,
   "eqLabelWithNumbers": true,
   "eqNumInitial": 1,
   "hotkeys": {
    "equation": "Ctrl-E",
    "itemize": "Ctrl-I"
   },
   "labels_anchors": false,
   "latex_user_defs": false,
   "report_style_numbering": false,
   "user_envs_cfg": false
  },
  "toc": {
   "base_numbering": 1,
   "nav_menu": {},
   "number_sections": true,
   "sideBar": true,
   "skip_h1_title": false,
   "title_cell": "Table of Contents",
   "title_sidebar": "Contents",
   "toc_cell": false,
   "toc_position": {},
   "toc_section_display": true,
   "toc_window_display": false
  }
 },
 "nbformat": 4,
 "nbformat_minor": 4
}
