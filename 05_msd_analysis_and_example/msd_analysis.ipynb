{
 "cells": [
  {
   "cell_type": "markdown",
   "metadata": {},
   "source": [
    "# Calculate MSDs"
   ]
  },
  {
   "cell_type": "code",
   "execution_count": 1,
   "metadata": {
    "ExecuteTime": {
     "end_time": "2023-10-19T20:37:02.200355Z",
     "start_time": "2023-10-19T20:37:00.704392Z"
    }
   },
   "outputs": [],
   "source": [
    "import matplotlib.pyplot as plt\n",
    "import numpy as np\n",
    "import seaborn as sns\n",
    "sns.set()\n",
    "sns.set_style(\"white\")\n",
    "sns.set_style(\"ticks\")\n",
    "sns.set_context(\"poster\")\n",
    "plEKW = {'lw':2, 'alpha':0.7}\n",
    "erEKW = {'fmt':'.-', 'lw':2, 'capsize':2, 'capthick':2, 'elinewidth':2, 'alpha':0.7}"
   ]
  },
  {
   "cell_type": "code",
   "execution_count": 2,
   "metadata": {
    "ExecuteTime": {
     "end_time": "2023-10-19T20:37:03.616629Z",
     "start_time": "2023-10-19T20:37:03.080787Z"
    }
   },
   "outputs": [],
   "source": [
    "import MDAnalysis as mdan\n",
    "from MDAnalysis.analysis import rdf as mAnRDF\n",
    "from MDAnalysis.analysis import distances as mAnDist\n",
    "import networkx as nx\n",
    "sns.set_style(\"white\")\n",
    "sns.set_style(\"ticks\")\n",
    "sns.set_context(\"paper\")"
   ]
  },
  {
   "cell_type": "code",
   "execution_count": 3,
   "metadata": {
    "ExecuteTime": {
     "end_time": "2023-10-19T20:37:03.624015Z",
     "start_time": "2023-10-19T20:37:03.618501Z"
    }
   },
   "outputs": [],
   "source": [
    "def Read_N130_Trajectory(top_file, trj_file, num_of_reps=108, verbose=False):\n",
    "    dum_universe = mdan.Universe(top_file, trj_file, format=\"LAMMPS\")\n",
    "    if verbose:\n",
    "        print(\"The simulation box is\", dum_universe.dimensions[:3])\n",
    "    #Adding the names of the molecules\n",
    "    names_of_res = ['N130']\n",
    "    [names_of_res.append('rpL5') for i in range(15)]\n",
    "    names_of_res = names_of_res*num_of_reps\n",
    "    dum_universe.add_TopologyAttr(topologyattr='resnames', values=names_of_res)\n",
    "    \n",
    "    #Getting the lengths of the different molecules (or bits) we care about\n",
    "    n130_len = len(dum_universe.residues[0].atoms)\n",
    "    pept_len = len(dum_universe.residues[1].atoms)\n",
    "    n130_arm_len = int((n130_len - 1)/5)\n",
    "    mol_lens = [n130_len, n130_arm_len, pept_len]\n",
    "    if verbose:\n",
    "        print(\"N130 has {:} beads; each arm has {:} beads.\".format(n130_len, n130_arm_len))\n",
    "        print(\"The peptide has {:} beads.\".format(pept_len))\n",
    "    pept_num = int(len(dum_universe.select_atoms('resname rpL5'))/pept_len)\n",
    "    n130_num = 108\n",
    "    mol_nums = [n130_num, pept_num]\n",
    "    return [dum_universe, mol_lens, mol_nums]"
   ]
  },
  {
   "cell_type": "code",
   "execution_count": 4,
   "metadata": {
    "ExecuteTime": {
     "end_time": "2023-10-19T20:37:04.321269Z",
     "start_time": "2023-10-19T20:37:03.625703Z"
    }
   },
   "outputs": [
    {
     "name": "stdout",
     "output_type": "stream",
     "text": [
      "The simulation box is [338.10733 338.10733 338.10733]\n",
      "N130 has 211 beads; each arm has 42 beads.\n",
      "The peptide has 17 beads.\n"
     ]
    },
    {
     "name": "stderr",
     "output_type": "stream",
     "text": [
      "/home/research/furqan.dar/.conda/envs/darPython/lib/python3.9/site-packages/MDAnalysis/coordinates/DCD.py:165: DeprecationWarning: DCDReader currently makes independent timesteps by copying self.ts while other readers update self.ts inplace. This behavior will be changed in 3.0 to be the same as other readers. Read more at https://github.com/MDAnalysis/mdanalysis/issues/3889 to learn if this change in behavior might affect you.\n",
      "  warnings.warn(\"DCDReader currently makes independent timesteps\"\n"
     ]
    }
   ],
   "source": [
    "# Run this for each replica\n",
    "dum_dat = f'lk_8_init.data'\n",
    "dum_trj = f'lk_8_example_traj.dcd'\n",
    "dum_un, dum_lens, dum_nums  = Read_N130_Trajectory(dum_dat, dum_trj, 108, True)"
   ]
  },
  {
   "cell_type": "code",
   "execution_count": 5,
   "metadata": {
    "ExecuteTime": {
     "end_time": "2023-10-19T20:37:04.379043Z",
     "start_time": "2023-10-19T20:37:04.375976Z"
    }
   },
   "outputs": [],
   "source": [
    "#Only the charged residues from each block\n",
    "\n",
    "A0_LIST = [6, 7, 10, 12, 17]\n",
    "A1_LIST = [20, 22, 24, 25, 27]\n",
    "A2_LIST = [33, 34, 35, 37, 39, 40, 41, 42, 43]\n",
    "PE_LIST = [44, 45, 46, 47, 48, 50, 52, 56, 57, 58]"
   ]
  },
  {
   "cell_type": "code",
   "execution_count": 6,
   "metadata": {
    "ExecuteTime": {
     "end_time": "2023-10-19T20:37:05.232735Z",
     "start_time": "2023-10-19T20:37:05.229080Z"
    }
   },
   "outputs": [],
   "source": [
    "# Calculate windowed MSD by averaging over all possible lag times\n",
    "\n",
    "# Adapts code from https://colab.research.google.com/github/kaityo256/zenn-content/blob/main/articles/msd_fft_python/msd_fft_python.ipynb#scrollTo=CuYbCG8DcQfH\n",
    "\n",
    "def calc_msd_np(x,y,z):\n",
    "    n = len(x)\n",
    "    msd = []\n",
    "    for s in range(1,n//1):\n",
    "        dx = x[s:] - x[:-s]\n",
    "        dy = y[s:] - y[:-s]\n",
    "        dz = z[s:] - z[:-s]\n",
    "        r2 = dx**2 + dy**2 + dz**2\n",
    "        msd.append(np.average(r2))\n",
    "    return msd"
   ]
  },
  {
   "cell_type": "code",
   "execution_count": 7,
   "metadata": {
    "ExecuteTime": {
     "end_time": "2023-10-19T20:37:05.953093Z",
     "start_time": "2023-10-19T20:37:05.949003Z"
    }
   },
   "outputs": [],
   "source": [
    "matrix = np.array([[[dum_un.dimensions[:1]]]])\n",
    "L = matrix.item()\n",
    "def adjust_periodic(x):\n",
    "    for i in range(len(x)-1):\n",
    "        if x[i+1] - x[i] > L/2:\n",
    "            x[i+1] -= (x[i+1] - x[i]+L/2)//L*L\n",
    "        if x[i+1] - x[i] < -L/2:\n",
    "            x[i+1] += (x[i] - x[i+1]+L/2)//L*L"
   ]
  },
  {
   "cell_type": "code",
   "execution_count": 8,
   "metadata": {
    "ExecuteTime": {
     "end_time": "2023-10-19T20:37:06.014338Z",
     "start_time": "2023-10-19T20:37:05.992465Z"
    }
   },
   "outputs": [],
   "source": [
    "\"\"\"For MSD analysis\"\"\"\n",
    "\"\"\"Extract coordinates\"\"\"\n",
    "\n",
    "x = []\n",
    "y = []\n",
    "z = []\n",
    "\n",
    "for a_frame in dum_un.trajectory: # for each snapshot\n",
    "    \n",
    "    FD = dum_un.select_atoms(\"type 1\")\n",
    "\n",
    "    # Positions of all molecules at each snapshot\n",
    "    r = FD.positions\n",
    "    r = list(r)\n",
    "\n",
    "    x_new = [coordinates[0] for coordinates in r]\n",
    "    y_new = [coordinates[1] for coordinates in r]\n",
    "    z_new = [coordinates[2] for coordinates in r]\n",
    "    \n",
    "    # x, y, z coordinates for all molecules over the entire trajectory\n",
    "    x.append(x_new)\n",
    "    y.append(y_new)\n",
    "    z.append(z_new)"
   ]
  },
  {
   "cell_type": "code",
   "execution_count": 9,
   "metadata": {
    "ExecuteTime": {
     "end_time": "2023-10-19T20:37:06.545214Z",
     "start_time": "2023-10-19T20:37:06.540906Z"
    }
   },
   "outputs": [],
   "source": [
    "\"\"\"Extract coordinates of *each* molecule over entire trajectory\"\"\"\n",
    "\n",
    "x_newest = []  \n",
    "y_newest = []  \n",
    "z_newest = []  \n",
    "\n",
    "msd_tot = [] \n",
    "\n",
    "for i in range(len(FD)): # for each N130 domain\n",
    "    x_new = [coordinates[i] for coordinates in x]\n",
    "    y_new = [coordinates[i] for coordinates in y]\n",
    "    z_new = [coordinates[i] for coordinates in z]\n",
    "    \n",
    "    # Combine x, y, z coordinates over entire trajectory\n",
    "    x_newest.append(x_new)\n",
    "    y_newest.append(y_new)\n",
    "    z_newest.append(z_new)"
   ]
  },
  {
   "cell_type": "code",
   "execution_count": 10,
   "metadata": {
    "ExecuteTime": {
     "end_time": "2023-10-19T20:37:07.137041Z",
     "start_time": "2023-10-19T20:37:07.111510Z"
    }
   },
   "outputs": [],
   "source": [
    "\"\"\"Calculate windowed, time-averaged MSD for each molecule\"\"\" \n",
    "msd_tot = [] \n",
    "for i in range(len(FD)):\n",
    "    \n",
    "    # Convert list to array\n",
    "    x_dum = np.array(x_newest[i])\n",
    "    y_dum = np.array(y_newest[i])\n",
    "    z_dum = np.array(z_newest[i])\n",
    "\n",
    "    adjust_periodic(x_dum)\n",
    "    adjust_periodic(y_dum)\n",
    "    adjust_periodic(z_dum)\n",
    "    \n",
    "    msd_np = calc_msd_np(x_dum,y_dum,z_dum)\n",
    "    # print(msd_np) # uncomment to output individual MSDs\n",
    "    msd_tot.append(msd_np)"
   ]
  },
  {
   "cell_type": "code",
   "execution_count": 11,
   "metadata": {
    "ExecuteTime": {
     "end_time": "2023-10-19T20:37:07.252876Z",
     "start_time": "2023-10-19T20:37:07.250153Z"
    }
   },
   "outputs": [],
   "source": [
    "msd_avg = np.average(msd_tot, axis=0) # average MSD for all molecules"
   ]
  },
  {
   "cell_type": "code",
   "execution_count": 12,
   "metadata": {
    "ExecuteTime": {
     "end_time": "2023-10-19T20:37:08.108200Z",
     "start_time": "2023-10-19T20:37:07.715354Z"
    }
   },
   "outputs": [
    {
     "data": {
      "image/png": "[encoded data removed]",
      "text/plain": [
       "<Figure size 640x480 with 1 Axes>"
      ]
     },
     "metadata": {},
     "output_type": "display_data"
    }
   ],
   "source": [
    "\"\"\"Plot MSD\"\"\"\n",
    "plt.loglog(msd_avg)\n",
    "plt.show()"
   ]
  },
  {
   "cell_type": "code",
   "execution_count": 13,
   "metadata": {
    "ExecuteTime": {
     "end_time": "2023-10-19T20:37:10.709464Z",
     "start_time": "2023-10-19T20:37:10.706478Z"
    },
    "scrolled": true
   },
   "outputs": [
    {
     "name": "stdout",
     "output_type": "stream",
     "text": [
      "[113.717476, 153.21516, 175.85423, 207.36455]\n"
     ]
    }
   ],
   "source": [
    "print(list(msd_avg)) # in post-processing, simply average over all replicates"
   ]
  },
  {
   "cell_type": "code",
   "execution_count": null,
   "metadata": {},
   "outputs": [],
   "source": []
  }
 ],
 "metadata": {
  "kernelspec": {
   "display_name": "darPython",
   "language": "python",
   "name": "darpython"
  },
  "language_info": {
   "codemirror_mode": {
    "name": "ipython",
    "version": 3
   },
   "file_extension": ".py",
   "mimetype": "text/x-python",
   "name": "python",
   "nbconvert_exporter": "python",
   "pygments_lexer": "ipython3",
   "version": "3.9.16"
  },
  "latex_envs": {
   "LaTeX_envs_menu_present": true,
   "autoclose": false,
   "autocomplete": true,
   "bibliofile": "biblio.bib",
   "cite_by": "apalike",
   "current_citInitial": 1,
   "eqLabelWithNumbers": true,
   "eqNumInitial": 1,
   "hotkeys": {
    "equation": "Ctrl-E",
    "itemize": "Ctrl-I"
   },
   "labels_anchors": false,
   "latex_user_defs": false,
   "report_style_numbering": false,
   "user_envs_cfg": false
  },
  "toc": {
   "base_numbering": 1,
   "nav_menu": {},
   "number_sections": true,
   "sideBar": true,
   "skip_h1_title": false,
   "title_cell": "Table of Contents",
   "title_sidebar": "Contents",
   "toc_cell": false,
   "toc_position": {},
   "toc_section_display": true,
   "toc_window_display": false
  }
 },
 "nbformat": 4,
 "nbformat_minor": 4
}
