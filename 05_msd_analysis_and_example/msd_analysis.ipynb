{
 "cells": [
  {
   "cell_type": "markdown",
   "metadata": {},
   "source": [
    "# Calculate MSDs"
   ]
  },
  {
   "cell_type": "code",
   "execution_count": 425,
   "metadata": {},
   "outputs": [
    {
     "name": "stdout",
     "output_type": "stream",
     "text": [
      "Populating the interactive namespace from numpy and matplotlib\n"
     ]
    },
    {
     "name": "stderr",
     "output_type": "stream",
     "text": [
      "/home/research/samuel.cohen/.conda/envs/pappuPython/lib/python3.9/site-packages/IPython/core/magics/pylab.py:159: UserWarning: pylab import has clobbered these variables: ['matrix']\n",
      "`%matplotlib` prevents importing * from pylab and numpy\n",
      "  warn(\"pylab import has clobbered these variables: %s\"  % clobbered +\n"
     ]
    }
   ],
   "source": [
    "import matplotlib.pyplot as plt\n",
    "import numpy as np\n",
    "import seaborn as sns\n",
    "%pylab inline\n",
    "sns.set()\n",
    "sns.set_style(\"white\")\n",
    "sns.set_style(\"ticks\")\n",
    "sns.set_context(\"poster\")\n",
    "pylab.rcParams['font.family'] = 'STIXGeneral'\n",
    "pylab.rcParams['mathtext.fontset'] = 'stix'\n",
    "pylab.rcParams['xtick.labelsize'] = 24\n",
    "pylab.rcParams['ytick.labelsize'] = 24\n",
    "import sys\n",
    "myList = [[]]\n",
    "from importlib import reload\n",
    "import os\n",
    "import subprocess as sproc\n",
    "import pickle\n",
    "plEKW = {'lw':2, 'alpha':0.7}\n",
    "erEKW = {'fmt':'.-', 'lw':2, 'capsize':2, 'capthick':2, 'elinewidth':2, 'alpha':0.7}"
   ]
  },
  {
   "cell_type": "code",
   "execution_count": 426,
   "metadata": {},
   "outputs": [],
   "source": [
    "import MDAnalysis as mdan\n",
    "from MDAnalysis.analysis import rdf as mAnRDF\n",
    "from MDAnalysis.analysis import distances as mAnDist\n",
    "import networkx as nx\n",
    "sns.set_style(\"white\")\n",
    "sns.set_style(\"ticks\")\n",
    "sns.set_context(\"paper\")"
   ]
  },
  {
   "cell_type": "code",
   "execution_count": 427,
   "metadata": {},
   "outputs": [],
   "source": [
    "def gen_random_residue_selection(num_of_sample, tot_mols=1728, mol_cycle=16):\n",
    "    dum_res_list = np.arange(0, tot_mols+1)\n",
    "    dum_res_list = dum_res_list[np.where(dum_res_list % mol_cycle != 0)[0]]+1\n",
    "    dum_res_list = np.random.choice(dum_res_list, num_of_sample, replace=False)\n",
    "    dum_res_list.sort()\n",
    "    dum_res_list = [\"resid \" + str(a_res) for a_res in dum_res_list]\n",
    "    dum_res_list = \" or \".join(dum_res_list)\n",
    "    return dum_res_list\n",
    "\n",
    "def Read_N130_Trajectory(top_file, trj_file, num_of_reps=108, verbose=False):\n",
    "    dum_universe = mdan.Universe(top_file, trj_file, format=\"LAMMPS\")\n",
    "    if verbose:\n",
    "        print(\"The simulation box is\", dum_universe.dimensions[:3])\n",
    "    #Adding the names of the molecules\n",
    "    names_of_res = ['N130']\n",
    "    [names_of_res.append('rpL5') for i in range(15)]\n",
    "    names_of_res = names_of_res*num_of_reps\n",
    "    dum_universe.add_TopologyAttr(topologyattr='resnames', values=names_of_res)\n",
    "    \n",
    "    #Getting the lengths of the different molecules (or bits) we care about\n",
    "    n130_len = len(dum_universe.residues[0].atoms)\n",
    "    pept_len = len(dum_universe.residues[1].atoms)\n",
    "    n130_arm_len = int((n130_len - 1)/5)\n",
    "    mol_lens = [n130_len, n130_arm_len, pept_len]\n",
    "    if verbose:\n",
    "        print(\"N130 has {:} beads; each arm has {:} beads.\".format(n130_len, n130_arm_len))\n",
    "        print(\"The peptide has {:} beads.\".format(pept_len))\n",
    "    pept_num = int(len(dum_universe.select_atoms('resname rpL5'))/pept_len)\n",
    "    n130_num = 108\n",
    "    mol_nums = [n130_num, pept_num]\n",
    "    return [dum_universe, mol_lens, mol_nums]"
   ]
  },
  {
   "cell_type": "code",
   "execution_count": 428,
   "metadata": {},
   "outputs": [
    {
     "name": "stdout",
     "output_type": "stream",
     "text": [
      "The simulation box is [338.5646 338.5646 338.5646]\n",
      "N130 has 211 beads; each arm has 42 beads.\n",
      "The peptide has 17 beads.\n"
     ]
    },
    {
     "name": "stderr",
     "output_type": "stream",
     "text": [
      "/home/research/samuel.cohen/.conda/envs/pappuPython/lib/python3.9/site-packages/MDAnalysis/coordinates/DCD.py:165: DeprecationWarning: DCDReader currently makes independent timesteps by copying self.ts while other readers update self.ts inplace. This behavior will be changed in 3.0 to be the same as other readers. Read more at https://github.com/MDAnalysis/mdanalysis/issues/3889 to learn if this change in behavior might affect you.\n",
      "  warnings.warn(\"DCDReader currently makes independent timesteps\"\n"
     ]
    }
   ],
   "source": [
    "# Run this for each replica\n",
    "dum_dat = 'lk_8_Init_0.data'\n",
    "dum_trj = '/project/fava/work/furqan.dar/2020/1_N130/5_NVT/1_AllSys/lk_8/Run_5/lk_8_5_postNPT_FULL.dcd'\n",
    "dum_un, dum_lens, dum_nums  = Read_N130_Trajectory(dum_dat, dum_trj, 108, True)"
   ]
  },
  {
   "cell_type": "code",
   "execution_count": 429,
   "metadata": {},
   "outputs": [
    {
     "name": "stdout",
     "output_type": "stream",
     "text": [
      "1000\n"
     ]
    }
   ],
   "source": [
    "from MDAnalysis.coordinates.memory import MemoryReader\n",
    "\n",
    "sel = dum_un.trajectory[1001:]\n",
    "positions = np.array([ts.positions for ts in sel])\n",
    "new_universe = mdan.Universe(dum_dat, positions, format=MemoryReader)\n",
    "print(new_universe.trajectory.n_frames)"
   ]
  },
  {
   "cell_type": "code",
   "execution_count": 430,
   "metadata": {},
   "outputs": [],
   "source": [
    "#Only the charged residues from each block\n",
    "\n",
    "A0_LIST = [6, 7, 10, 12, 17]\n",
    "A1_LIST = [20, 22, 24, 25, 27]\n",
    "A2_LIST = [33, 34, 35, 37, 39, 40, 41, 42, 43]\n",
    "PE_LIST = [44, 45, 46, 47, 48, 50, 52, 56, 57, 58]"
   ]
  },
  {
   "cell_type": "code",
   "execution_count": 431,
   "metadata": {},
   "outputs": [
    {
     "name": "stdout",
     "output_type": "stream",
     "text": [
      "108\n"
     ]
    }
   ],
   "source": [
    "def _get_only_FDs(mdan_universe):\n",
    "    \"\"\"\n",
    "    Given this MDAnalysis Universe object for the N130 CG simulations, we extract only the Folded Domains (FD's)\n",
    "    of the N130 molecules. This can easily be modified, however.\n",
    "    \"\"\"\n",
    "    \n",
    "    return mdan_universe.select_atoms(\"type 1\")\n",
    "\n",
    "dum_sel = _get_only_FDs(new_universe)\n",
    "print(dum_sel.n_atoms)\n",
    "\n",
    "def _get_distance_map(mdan_universe, atom_sel):\n",
    "    \"\"\"\n",
    "    Given a frame from an MDAnalysis Universe object, we calculate the distance map for the given atom_selection.\n",
    "    \"\"\"\n",
    "    \n",
    "    dist_map = mAnDist.distance_array(atom_sel.positions, atom_sel.positions,\n",
    "                                                         box=mdan_universe.dimensions)\n",
    "    \n",
    "    return dist_map\n",
    "\n",
    "dum_map = _get_distance_map(new_universe, dum_sel)\n",
    "\n",
    "def _filter_distance_map(this_map, r_lo=50, r_hi=100):\n",
    "    \"\"\"\n",
    "    Given this Distance Map, we create a sort of adjacency matrix where only the distances between r_lo and r_hi\n",
    "    define an unweighted edge.\n",
    "    \"\"\"\n",
    "    \n",
    "    map_copy = this_map[:]\n",
    "    map_copy[ map_copy > r_hi] = 0\n",
    "    map_copy[ map_copy < r_lo] = 0\n",
    "    map_copy[map_copy != 0]    = 1\n",
    "    \n",
    "    return np.array(map_copy, int)\n",
    "\n",
    "dum_map = _filter_distance_map(dum_map)"
   ]
  },
  {
   "cell_type": "code",
   "execution_count": 432,
   "metadata": {},
   "outputs": [],
   "source": [
    "# Calculate windowed MSD by averaging over all possible lag times\n",
    "\n",
    "# Adapts code from https://colab.research.google.com/github/kaityo256/zenn-content/blob/main/articles/msd_fft_python/msd_fft_python.ipynb#scrollTo=CuYbCG8DcQfH\n",
    "\n",
    "def calc_msd_np(x,y,z):\n",
    "    n = len(x)\n",
    "    msd = []\n",
    "    for s in range(1,n//4):\n",
    "        dx = x[s:] - x[:-s]\n",
    "        dy = y[s:] - y[:-s]\n",
    "        dz = z[s:] - z[:-s]\n",
    "        r2 = dx**2 + dy**2 + dz**2\n",
    "        msd.append(np.average(r2))\n",
    "    return msd"
   ]
  },
  {
   "cell_type": "code",
   "execution_count": 433,
   "metadata": {},
   "outputs": [],
   "source": [
    "matrix = np.array([[[dum_un.dimensions[:1]]]])\n",
    "L = matrix.item()\n",
    "def adjust_periodic(x):\n",
    "    for i in range(len(x)-1):\n",
    "        if x[i+1] - x[i] > L/2:\n",
    "            x[i+1] -= (x[i+1] - x[i]+L/2)//L*L\n",
    "        if x[i+1] - x[i] < -L/2:\n",
    "            x[i+1] += (x[i] - x[i+1]+L/2)//L*L"
   ]
  },
  {
   "cell_type": "code",
   "execution_count": 434,
   "metadata": {},
   "outputs": [],
   "source": [
    "\"\"\"For MSD analysis\"\"\"\n",
    "\"\"\"Extract coordinates\"\"\"\n",
    "\n",
    "x = []\n",
    "y = []\n",
    "z = []\n",
    "\n",
    "for a_frame in new_universe.trajectory: # for each snapshot\n",
    "    \n",
    "    FD = new_universe.select_atoms(\"type 1\")\n",
    "\n",
    "    # Positions of all molecules at each snapshot\n",
    "    r = FD.positions\n",
    "    r = list(r)\n",
    "\n",
    "    x_new = [coordinates[0] for coordinates in r]\n",
    "    y_new = [coordinates[1] for coordinates in r]\n",
    "    z_new = [coordinates[2] for coordinates in r]\n",
    "    \n",
    "    # x, y, z coordinates for all molecules over the entire trajectory\n",
    "    x.append(x_new)\n",
    "    y.append(y_new)\n",
    "    z.append(z_new)"
   ]
  },
  {
   "cell_type": "code",
   "execution_count": 435,
   "metadata": {},
   "outputs": [],
   "source": [
    "\"\"\"Extract coordinates of *each* molecule over entire trajectory\"\"\"\n",
    "\n",
    "x_newest = []  \n",
    "y_newest = []  \n",
    "z_newest = []  \n",
    "\n",
    "msd_tot = [] \n",
    "\n",
    "for i in range(len(FD)): # for each N130 domain\n",
    "    x_new = [coordinates[i] for coordinates in x]\n",
    "    y_new = [coordinates[i] for coordinates in y]\n",
    "    z_new = [coordinates[i] for coordinates in z]\n",
    "    \n",
    "    # Combine x, y, z coordinates over entire trajectory\n",
    "    x_newest.append(x_new)\n",
    "    y_newest.append(y_new)\n",
    "    z_newest.append(z_new)"
   ]
  },
  {
   "cell_type": "code",
   "execution_count": 436,
   "metadata": {},
   "outputs": [],
   "source": [
    "\"\"\"Calculate windowed, time-averaged MSD for each molecule\"\"\" \n",
    "msd_tot = [] \n",
    "for i in range(len(FD)):\n",
    "    \n",
    "    # Convert list to array\n",
    "    x_dum = np.array(x_newest[i])\n",
    "    y_dum = np.array(y_newest[i])\n",
    "    z_dum = np.array(z_newest[i])\n",
    "\n",
    "    adjust_periodic(x_dum)\n",
    "    adjust_periodic(y_dum)\n",
    "    adjust_periodic(z_dum)\n",
    "    \n",
    "    msd_np = calc_msd_np(x_dum,y_dum,z_dum)\n",
    "    # print(msd_np) # uncomment to output individual MSDs\n",
    "    msd_tot.append(msd_np)"
   ]
  },
  {
   "cell_type": "code",
   "execution_count": 437,
   "metadata": {},
   "outputs": [],
   "source": [
    "msd_avg = np.average(msd_tot, axis=0) # average MSD for all molecules"
   ]
  },
  {
   "cell_type": "code",
   "execution_count": 438,
   "metadata": {},
   "outputs": [
    {
     "data": {
      "image/png": "[encoded data removed]",
      "text/plain": [
       "<Figure size 432x288 with 1 Axes>"
      ]
     },
     "metadata": {},
     "output_type": "display_data"
    }
   ],
   "source": [
    "\"\"\"Plot MSD\"\"\"\n",
    "plt.loglog(msd_avg)\n",
    "plt.show()"
   ]
  },
  {
   "cell_type": "code",
   "execution_count": 439,
   "metadata": {
    "scrolled": false
   },
   "outputs": [
    {
     "name": "stdout",
     "output_type": "stream",
     "text": [
      "[0.34813812, 1.2741015, 2.647874, 4.3709273, 6.3643317, 8.562542, 10.910605, 13.362199, 15.878576, 18.427135, 20.981758, 23.52136, 26.029282, 28.492788, 30.90219, 33.2509, 35.534565, 37.75038, 39.89707, 41.974033, 43.98095, 45.918133, 47.78734, 49.5914, 51.333023, 53.015324, 54.641724, 56.21574, 57.74034, 59.21842, 60.652515, 62.04567, 63.400356, 64.71856, 66.00155, 67.250824, 68.46969, 69.660065, 70.823746, 71.96182, 73.07512, 74.16329, 75.22746, 76.267624, 77.284134, 78.27746, 79.24828, 80.197464, 81.12534, 82.03311, 82.92249, 83.79491, 84.651184, 85.491936, 86.317314, 87.12684, 87.92105, 88.701515, 89.46894, 90.22471, 90.96953, 91.70468, 92.43193, 93.152596, 93.86661, 94.57387, 95.27456, 95.96885, 96.65563, 97.33437, 98.00493, 98.66652, 99.319984, 99.967476, 100.609375, 101.245804, 101.87765, 102.50451, 103.125534, 103.74044, 104.34754, 104.94508, 105.53214, 106.10796, 106.672676, 107.225426, 107.766594, 108.296616, 108.815346, 109.32294, 109.81912, 110.30355, 110.777275, 111.24183, 111.698845, 112.14981, 112.595505, 113.03822, 113.48041, 113.92206, 114.364006, 114.80576, 115.24795, 115.69098, 116.13387, 116.57511, 117.013855, 117.45001, 117.88383, 118.315056, 118.74291, 119.16574, 119.5837, 119.99798, 120.40952, 120.818596, 121.22681, 121.63534, 122.04548, 122.45892, 122.87619, 123.29721, 123.72154, 124.146904, 124.57166, 124.99492, 125.41684, 125.836136, 126.25196, 126.66288, 127.068794, 127.469345, 127.86187, 128.24596, 128.62286, 128.99413, 129.36261, 129.72816, 130.09143, 130.45364, 130.81555, 131.17735, 131.53787, 131.89755, 132.25598, 132.61476, 132.97379, 133.33316, 133.69247, 134.05156, 134.41103, 134.77235, 135.13736, 135.50645, 135.8795, 136.25783, 136.64098, 137.02933, 137.42108, 137.81506, 138.21031, 138.6064, 139.00264, 139.39864, 139.79347, 140.18669, 140.5778, 140.96692, 141.3536, 141.73607, 142.11363, 142.4859, 142.85222, 143.21268, 143.56712, 143.91518, 144.2572, 144.59436, 144.92719, 145.2555, 145.58058, 145.9044, 146.22737, 146.54959, 146.87091, 147.19122, 147.51085, 147.82996, 148.14868, 148.46783, 148.78761, 149.10857, 149.43124, 149.75533, 150.08118, 150.4091, 150.7392, 151.07094, 151.40532, 151.74324, 152.0845, 152.42871, 152.77493, 153.12257, 153.4717, 153.8214, 154.16893, 154.51227, 154.85153, 155.18715, 155.51936, 155.84863, 156.17549, 156.50032, 156.82468, 157.14928, 157.47502, 157.79926, 158.12263, 158.44583, 158.76866, 159.09123, 159.41125, 159.72737, 160.03738, 160.34085, 160.63832, 160.92969, 161.21524, 161.49547, 161.77098, 162.0406, 162.30403, 162.56102, 162.81308, 163.06026, 163.30179, 163.53682, 163.76416, 163.98448, 164.19734, 164.40302, 164.60352, 164.79962, 164.99248, 165.18314, 165.37401, 165.5658, 165.75833]\n"
     ]
    }
   ],
   "source": [
    "print(list(msd_avg)) # in post-processing, simply average over all replicates"
   ]
  },
  {
   "cell_type": "code",
   "execution_count": null,
   "metadata": {},
   "outputs": [],
   "source": []
  }
 ],
 "metadata": {
  "kernelspec": {
   "display_name": "pappuPython",
   "language": "python",
   "name": "pappupython"
  },
  "language_info": {
   "codemirror_mode": {
    "name": "ipython",
    "version": 3
   },
   "file_extension": ".py",
   "mimetype": "text/x-python",
   "name": "python",
   "nbconvert_exporter": "python",
   "pygments_lexer": "ipython3",
   "version": "3.9.16"
  }
 },
 "nbformat": 4,
 "nbformat_minor": 4
}
